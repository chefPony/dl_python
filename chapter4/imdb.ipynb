{
 "cells": [
  {
   "cell_type": "code",
   "execution_count": 1,
   "metadata": {},
   "outputs": [
    {
     "name": "stderr",
     "output_type": "stream",
     "text": [
      "Using TensorFlow backend.\n"
     ]
    }
   ],
   "source": [
    "from keras.datasets import imdb"
   ]
  },
  {
   "cell_type": "code",
   "execution_count": 2,
   "metadata": {
    "collapsed": true
   },
   "outputs": [],
   "source": [
    "(train_data, train_labels), (test_data, test_labels) = imdb.load_data(num_words=10000)"
   ]
  },
  {
   "cell_type": "code",
   "execution_count": 3,
   "metadata": {},
   "outputs": [
    {
     "data": {
      "text/plain": [
       "(25000,)"
      ]
     },
     "execution_count": 3,
     "metadata": {},
     "output_type": "execute_result"
    }
   ],
   "source": [
    "train_data.shape"
   ]
  },
  {
   "cell_type": "code",
   "execution_count": 4,
   "metadata": {},
   "outputs": [
    {
     "data": {
      "text/plain": [
       "(25000,)"
      ]
     },
     "execution_count": 4,
     "metadata": {},
     "output_type": "execute_result"
    }
   ],
   "source": [
    "train_labels.shape"
   ]
  },
  {
   "cell_type": "code",
   "execution_count": 5,
   "metadata": {},
   "outputs": [
    {
     "data": {
      "text/plain": [
       "9999"
      ]
     },
     "execution_count": 5,
     "metadata": {},
     "output_type": "execute_result"
    }
   ],
   "source": [
    "max([max(seq) for seq in train_data])"
   ]
  },
  {
   "cell_type": "code",
   "execution_count": 6,
   "metadata": {},
   "outputs": [
    {
     "data": {
      "text/plain": [
       "1"
      ]
     },
     "execution_count": 6,
     "metadata": {},
     "output_type": "execute_result"
    }
   ],
   "source": [
    "train_labels[0]"
   ]
  },
  {
   "cell_type": "code",
   "execution_count": 7,
   "metadata": {
    "collapsed": true
   },
   "outputs": [],
   "source": [
    "word_index = imdb.get_word_index()\n",
    "reverse_word_index = {value:key for key, value in word_index.items()}\n",
    "decoded_review = ' '.join([reverse_word_index.get(index-3, '?') for index in train_data[0]])"
   ]
  },
  {
   "cell_type": "code",
   "execution_count": 8,
   "metadata": {},
   "outputs": [
    {
     "data": {
      "text/plain": [
       "\"? this film was just brilliant casting location scenery story direction everyone's really suited the part they played and you could just imagine being there robert ? is an amazing actor and now the same being director ? father came from the same scottish island as myself so i loved the fact there was a real connection with this film the witty remarks throughout the film were great it was just brilliant so much that i bought the film as soon as it was released for ? and would recommend it to everyone to watch and the fly fishing was amazing really cried at the end it was so sad and you know what they say if you cry at a film it must have been good and this definitely was also ? to the two little boy's that played the ? of norman and paul they were just brilliant children are often left out of the ? list i think because the stars that play them all grown up are such a big profile for the whole film but these children are amazing and should be praised for what they have done don't you think the whole story was so lovely because it was true and was someone's life after all that was shared with us all\""
      ]
     },
     "execution_count": 8,
     "metadata": {},
     "output_type": "execute_result"
    }
   ],
   "source": [
    "decoded_review"
   ]
  },
  {
   "cell_type": "markdown",
   "metadata": {},
   "source": [
    "## Vectorize data"
   ]
  },
  {
   "cell_type": "code",
   "execution_count": 9,
   "metadata": {
    "collapsed": true
   },
   "outputs": [],
   "source": [
    "import numpy as np"
   ]
  },
  {
   "cell_type": "code",
   "execution_count": 10,
   "metadata": {},
   "outputs": [
    {
     "data": {
      "text/plain": [
       "array([2, 4])"
      ]
     },
     "execution_count": 10,
     "metadata": {},
     "output_type": "execute_result"
    }
   ],
   "source": [
    "np.array([0,1,2,3,4])[[2,4]]"
   ]
  },
  {
   "cell_type": "code",
   "execution_count": 11,
   "metadata": {
    "collapsed": true
   },
   "outputs": [],
   "source": [
    "def vectorize_sequence(sequences, dimension=10000):\n",
    "    vec = np.zeros((len(sequences), dimension))\n",
    "    for i in range(len(sequences)):\n",
    "        vec[i, sequences[i]] = 1\n",
    "    return vec"
   ]
  },
  {
   "cell_type": "code",
   "execution_count": 12,
   "metadata": {
    "collapsed": true
   },
   "outputs": [],
   "source": [
    "x_train = vectorize_sequence(train_data)\n",
    "x_test = vectorize_sequence(test_data)"
   ]
  },
  {
   "cell_type": "code",
   "execution_count": 13,
   "metadata": {},
   "outputs": [
    {
     "data": {
      "text/plain": [
       "array([0., 1., 1., ..., 0., 0., 0.])"
      ]
     },
     "execution_count": 13,
     "metadata": {},
     "output_type": "execute_result"
    }
   ],
   "source": [
    "x_train[0,:]"
   ]
  },
  {
   "cell_type": "code",
   "execution_count": 14,
   "metadata": {
    "collapsed": true
   },
   "outputs": [],
   "source": [
    "y_train = np.asarray(train_labels).astype('float32')\n",
    "y_test = np.asarray(test_labels).astype('float32')"
   ]
  },
  {
   "cell_type": "markdown",
   "metadata": {},
   "source": [
    "## Compare model with fewer parameters (regularize by reduce model size)"
   ]
  },
  {
   "cell_type": "code",
   "execution_count": 15,
   "metadata": {
    "collapsed": true
   },
   "outputs": [],
   "source": [
    "x_val = x_train[:10000]\n",
    "partial_x_train = x_train[10000:]\n",
    "\n",
    "y_val = y_train[:10000]\n",
    "partial_y_train = y_train[10000:]"
   ]
  },
  {
   "cell_type": "code",
   "execution_count": 25,
   "metadata": {
    "scrolled": true
   },
   "outputs": [
    {
     "name": "stdout",
     "output_type": "stream",
     "text": [
      "Train on 15000 samples, validate on 10000 samples\n",
      "Epoch 1/20\n",
      "15000/15000 [==============================] - 1s 99us/step - loss: 0.5150 - acc: 0.7893 - val_loss: 0.3961 - val_acc: 0.8627\n",
      "Epoch 2/20\n",
      "15000/15000 [==============================] - 1s 83us/step - loss: 0.3131 - acc: 0.8992 - val_loss: 0.3199 - val_acc: 0.8770\n",
      "Epoch 3/20\n",
      "15000/15000 [==============================] - 1s 83us/step - loss: 0.2287 - acc: 0.9269 - val_loss: 0.2912 - val_acc: 0.8851\n",
      "Epoch 4/20\n",
      "15000/15000 [==============================] - 1s 84us/step - loss: 0.1833 - acc: 0.9393 - val_loss: 0.2722 - val_acc: 0.8894\n",
      "Epoch 5/20\n",
      "15000/15000 [==============================] - 1s 85us/step - loss: 0.1486 - acc: 0.9513 - val_loss: 0.2834 - val_acc: 0.8865\n",
      "Epoch 6/20\n",
      "15000/15000 [==============================] - 1s 84us/step - loss: 0.1229 - acc: 0.9611 - val_loss: 0.2881 - val_acc: 0.8863\n",
      "Epoch 7/20\n",
      "15000/15000 [==============================] - 1s 85us/step - loss: 0.1036 - acc: 0.9696 - val_loss: 0.3045 - val_acc: 0.8847\n",
      "Epoch 8/20\n",
      "15000/15000 [==============================] - 1s 85us/step - loss: 0.0866 - acc: 0.9735 - val_loss: 0.3315 - val_acc: 0.8829\n",
      "Epoch 9/20\n",
      "15000/15000 [==============================] - 1s 85us/step - loss: 0.0712 - acc: 0.9812 - val_loss: 0.3490 - val_acc: 0.8809\n",
      "Epoch 10/20\n",
      "15000/15000 [==============================] - 1s 85us/step - loss: 0.0573 - acc: 0.9847 - val_loss: 0.3847 - val_acc: 0.8788\n",
      "Epoch 11/20\n",
      "15000/15000 [==============================] - 1s 85us/step - loss: 0.0477 - acc: 0.9878 - val_loss: 0.4044 - val_acc: 0.8764\n",
      "Epoch 12/20\n",
      "15000/15000 [==============================] - 1s 85us/step - loss: 0.0417 - acc: 0.9894 - val_loss: 0.4359 - val_acc: 0.8729\n",
      "Epoch 13/20\n",
      "15000/15000 [==============================] - 1s 85us/step - loss: 0.0327 - acc: 0.9922 - val_loss: 0.4629 - val_acc: 0.8732\n",
      "Epoch 14/20\n",
      "15000/15000 [==============================] - 1s 89us/step - loss: 0.0240 - acc: 0.9956 - val_loss: 0.5144 - val_acc: 0.8721\n",
      "Epoch 15/20\n",
      "15000/15000 [==============================] - 1s 88us/step - loss: 0.0226 - acc: 0.9955 - val_loss: 0.5316 - val_acc: 0.8709\n",
      "Epoch 16/20\n",
      "15000/15000 [==============================] - 1s 87us/step - loss: 0.0150 - acc: 0.9981 - val_loss: 0.5794 - val_acc: 0.8695\n",
      "Epoch 17/20\n",
      "15000/15000 [==============================] - 1s 92us/step - loss: 0.0138 - acc: 0.9979 - val_loss: 0.5950 - val_acc: 0.8687\n",
      "Epoch 18/20\n",
      "15000/15000 [==============================] - 1s 86us/step - loss: 0.0097 - acc: 0.9992 - val_loss: 0.6282 - val_acc: 0.8675\n",
      "Epoch 19/20\n",
      "15000/15000 [==============================] - 1s 92us/step - loss: 0.0081 - acc: 0.9995 - val_loss: 0.6714 - val_acc: 0.8673\n",
      "Epoch 20/20\n",
      "15000/15000 [==============================] - 1s 89us/step - loss: 0.0072 - acc: 0.9992 - val_loss: 0.6955 - val_acc: 0.8662\n"
     ]
    }
   ],
   "source": [
    "from keras import Sequential\n",
    "from keras.layers import Dense\n",
    "\n",
    "model = Sequential()\n",
    "model.add(Dense(16, activation='relu', input_shape = (10000,)))\n",
    "model.add(Dense(16, activation='relu'))\n",
    "model.add(Dense(1, activation='sigmoid'))\n",
    "\n",
    "model.compile(optimizer='rmsprop', loss='binary_crossentropy', metrics=['accuracy'])\n",
    "\n",
    "history = model.fit(x=partial_x_train, y=partial_y_train, batch_size=512, \n",
    "                    epochs=20, validation_data=(x_val, y_val))\n",
    "\n",
    "history_dict_1 = history.history"
   ]
  },
  {
   "cell_type": "code",
   "execution_count": 26,
   "metadata": {
    "collapsed": true
   },
   "outputs": [
    {
     "name": "stdout",
     "output_type": "stream",
     "text": [
      "Train on 15000 samples, validate on 10000 samples\n",
      "Epoch 1/20\n",
      "15000/15000 [==============================] - 2s 105us/step - loss: 0.6124 - acc: 0.7305 - val_loss: 0.5442 - val_acc: 0.7823\n",
      "Epoch 2/20\n",
      "15000/15000 [==============================] - 1s 89us/step - loss: 0.4795 - acc: 0.8631 - val_loss: 0.4458 - val_acc: 0.8581\n",
      "Epoch 3/20\n",
      "15000/15000 [==============================] - 1s 83us/step - loss: 0.3788 - acc: 0.8989 - val_loss: 0.3822 - val_acc: 0.8611\n",
      "Epoch 4/20\n",
      "15000/15000 [==============================] - 1s 81us/step - loss: 0.3064 - acc: 0.9161 - val_loss: 0.3410 - val_acc: 0.8694\n",
      "Epoch 5/20\n",
      "15000/15000 [==============================] - 1s 81us/step - loss: 0.2550 - acc: 0.9275 - val_loss: 0.3065 - val_acc: 0.8848\n",
      "Epoch 6/20\n",
      "15000/15000 [==============================] - 1s 81us/step - loss: 0.2167 - acc: 0.9363 - val_loss: 0.2859 - val_acc: 0.8885\n",
      "Epoch 7/20\n",
      "15000/15000 [==============================] - 1s 81us/step - loss: 0.1882 - acc: 0.9441 - val_loss: 0.2773 - val_acc: 0.8904\n",
      "Epoch 8/20\n",
      "15000/15000 [==============================] - 1s 83us/step - loss: 0.1664 - acc: 0.9512 - val_loss: 0.2844 - val_acc: 0.8846\n",
      "Epoch 9/20\n",
      "15000/15000 [==============================] - 1s 81us/step - loss: 0.1479 - acc: 0.9559 - val_loss: 0.2757 - val_acc: 0.8890\n",
      "Epoch 10/20\n",
      "15000/15000 [==============================] - 1s 86us/step - loss: 0.1322 - acc: 0.9612 - val_loss: 0.2825 - val_acc: 0.8873\n",
      "Epoch 11/20\n",
      "15000/15000 [==============================] - 1s 84us/step - loss: 0.1179 - acc: 0.9677 - val_loss: 0.2847 - val_acc: 0.8871\n",
      "Epoch 12/20\n",
      "15000/15000 [==============================] - 1s 85us/step - loss: 0.1063 - acc: 0.9709 - val_loss: 0.3043 - val_acc: 0.8808\n",
      "Epoch 13/20\n",
      "15000/15000 [==============================] - 1s 85us/step - loss: 0.0960 - acc: 0.9737 - val_loss: 0.3003 - val_acc: 0.8832\n",
      "Epoch 14/20\n",
      "15000/15000 [==============================] - 1s 88us/step - loss: 0.0863 - acc: 0.9778 - val_loss: 0.3169 - val_acc: 0.8844\n",
      "Epoch 15/20\n",
      "15000/15000 [==============================] - 1s 88us/step - loss: 0.0779 - acc: 0.9805 - val_loss: 0.3330 - val_acc: 0.8808\n",
      "Epoch 16/20\n",
      "15000/15000 [==============================] - 1s 83us/step - loss: 0.0699 - acc: 0.9831 - val_loss: 0.3325 - val_acc: 0.8835\n",
      "Epoch 17/20\n",
      "15000/15000 [==============================] - 1s 82us/step - loss: 0.0624 - acc: 0.9861 - val_loss: 0.3471 - val_acc: 0.8825\n",
      "Epoch 18/20\n",
      "15000/15000 [==============================] - 1s 82us/step - loss: 0.0560 - acc: 0.9886 - val_loss: 0.3682 - val_acc: 0.8801\n",
      "Epoch 19/20\n",
      "15000/15000 [==============================] - 1s 82us/step - loss: 0.0491 - acc: 0.9902 - val_loss: 0.3841 - val_acc: 0.8796\n",
      "Epoch 20/20\n",
      "15000/15000 [==============================] - 1s 82us/step - loss: 0.0434 - acc: 0.9918 - val_loss: 0.3899 - val_acc: 0.8756\n"
     ]
    }
   ],
   "source": [
    "model = Sequential()\n",
    "model.add(Dense(4, activation='relu', input_shape = (10000,)))\n",
    "model.add(Dense(4, activation='relu'))\n",
    "model.add(Dense(1, activation='sigmoid'))\n",
    "\n",
    "model.compile(optimizer='rmsprop', loss='binary_crossentropy', metrics=['accuracy'])\n",
    "\n",
    "history = model.fit(x=partial_x_train, y=partial_y_train, batch_size=512, \n",
    "                    epochs=20, validation_data=(x_val, y_val))\n",
    "\n",
    "history_dict_2 = history.history"
   ]
  },
  {
   "cell_type": "code",
   "execution_count": 30,
   "metadata": {},
   "outputs": [
    {
     "data": {
      "image/png": "[encoded data removed]",
      "text/plain": [
       "<Figure size 432x288 with 1 Axes>"
      ]
     },
     "metadata": {
      "needs_background": "light"
     },
     "output_type": "display_data"
    }
   ],
   "source": [
    "import matplotlib.pyplot as plt\n",
    "%matplotlib inline\n",
    "plt.plot(history_dict_1['val_loss'], 'bx', label='larger model')\n",
    "plt.plot(history_dict_2['val_loss'], 'ro', label='smaller model')\n",
    "plt.legend()\n",
    "plt.show()"
   ]
  },
  {
   "cell_type": "code",
   "execution_count": 31,
   "metadata": {},
   "outputs": [
    {
     "name": "stdout",
     "output_type": "stream",
     "text": [
      "Train on 15000 samples, validate on 10000 samples\n",
      "Epoch 1/20\n",
      "15000/15000 [==============================] - 5s 348us/step - loss: 0.5362 - acc: 0.7798 - val_loss: 0.5406 - val_acc: 0.7615\n",
      "Epoch 2/20\n",
      "15000/15000 [==============================] - 5s 321us/step - loss: 0.2607 - acc: 0.8975 - val_loss: 0.2766 - val_acc: 0.8877\n",
      "Epoch 3/20\n",
      "15000/15000 [==============================] - 5s 323us/step - loss: 0.1558 - acc: 0.9463 - val_loss: 0.3430 - val_acc: 0.8674\n",
      "Epoch 4/20\n",
      "15000/15000 [==============================] - 5s 323us/step - loss: 0.0981 - acc: 0.9692 - val_loss: 0.3441 - val_acc: 0.8904\n",
      "Epoch 5/20\n",
      "15000/15000 [==============================] - 5s 323us/step - loss: 0.0159 - acc: 0.9959 - val_loss: 2.3882 - val_acc: 0.6368\n",
      "Epoch 6/20\n",
      "15000/15000 [==============================] - 5s 325us/step - loss: 0.0727 - acc: 0.9824 - val_loss: 0.4653 - val_acc: 0.8875\n",
      "Epoch 7/20\n",
      "15000/15000 [==============================] - 5s 324us/step - loss: 8.6375e-04 - acc: 1.0000 - val_loss: 0.5693 - val_acc: 0.8857\n",
      "Epoch 8/20\n",
      "15000/15000 [==============================] - 5s 326us/step - loss: 1.4703e-04 - acc: 1.0000 - val_loss: 0.6550 - val_acc: 0.8853\n",
      "Epoch 9/20\n",
      "15000/15000 [==============================] - 5s 325us/step - loss: 2.5098e-05 - acc: 1.0000 - val_loss: 0.7380 - val_acc: 0.8849\n",
      "Epoch 10/20\n",
      "15000/15000 [==============================] - 5s 325us/step - loss: 5.5109e-06 - acc: 1.0000 - val_loss: 0.8030 - val_acc: 0.8848\n",
      "Epoch 11/20\n",
      "15000/15000 [==============================] - 5s 326us/step - loss: 0.2238 - acc: 0.9838 - val_loss: 0.8391 - val_acc: 0.8844\n",
      "Epoch 12/20\n",
      "15000/15000 [==============================] - 5s 332us/step - loss: 4.1949e-06 - acc: 1.0000 - val_loss: 0.8294 - val_acc: 0.8862\n",
      "Epoch 13/20\n",
      "15000/15000 [==============================] - 5s 332us/step - loss: 1.5499e-06 - acc: 1.0000 - val_loss: 0.8361 - val_acc: 0.8862\n",
      "Epoch 14/20\n",
      "15000/15000 [==============================] - 5s 330us/step - loss: 1.1732e-06 - acc: 1.0000 - val_loss: 0.8448 - val_acc: 0.8869\n",
      "Epoch 15/20\n",
      "15000/15000 [==============================] - 5s 331us/step - loss: 9.0643e-07 - acc: 1.0000 - val_loss: 0.8561 - val_acc: 0.8872\n",
      "Epoch 16/20\n",
      "15000/15000 [==============================] - 5s 333us/step - loss: 6.7647e-07 - acc: 1.0000 - val_loss: 0.8744 - val_acc: 0.8873\n",
      "Epoch 17/20\n",
      "15000/15000 [==============================] - 5s 334us/step - loss: 4.5786e-07 - acc: 1.0000 - val_loss: 0.9008 - val_acc: 0.8871\n",
      "Epoch 18/20\n",
      "15000/15000 [==============================] - 5s 336us/step - loss: 2.7676e-07 - acc: 1.0000 - val_loss: 0.9298 - val_acc: 0.8872\n",
      "Epoch 19/20\n",
      "15000/15000 [==============================] - 5s 342us/step - loss: 1.7995e-07 - acc: 1.0000 - val_loss: 0.9587 - val_acc: 0.8874\n",
      "Epoch 20/20\n",
      "15000/15000 [==============================] - 5s 333us/step - loss: 1.3761e-07 - acc: 1.0000 - val_loss: 0.9769 - val_acc: 0.8876\n"
     ]
    }
   ],
   "source": [
    "model = Sequential()\n",
    "model.add(Dense(512, activation='relu', input_shape = (10000,)))\n",
    "model.add(Dense(512, activation='relu'))\n",
    "model.add(Dense(1, activation='sigmoid'))\n",
    "\n",
    "model.compile(optimizer='rmsprop', loss='binary_crossentropy', metrics=['accuracy'])\n",
    "\n",
    "history = model.fit(x=partial_x_train, y=partial_y_train, batch_size=512, \n",
    "                    epochs=20, validation_data=(x_val, y_val))\n",
    "\n",
    "history_dict_3 = history.history"
   ]
  },
  {
   "cell_type": "code",
   "execution_count": 32,
   "metadata": {},
   "outputs": [
    {
     "data": {
      "image/png": "[encoded data removed]",
      "text/plain": [
       "<Figure size 432x288 with 1 Axes>"
      ]
     },
     "metadata": {
      "needs_background": "light"
     },
     "output_type": "display_data"
    }
   ],
   "source": [
    "plt.plot(history_dict_1['val_loss'], 'bx', label='original model')\n",
    "plt.plot(history_dict_2['val_loss'], 'ro', label='smaller model')\n",
    "plt.plot(history_dict_3['val_loss'], 'gd', label='large model')\n",
    "plt.title('Validation loss')\n",
    "plt.legend()\n",
    "plt.show()"
   ]
  },
  {
   "cell_type": "code",
   "execution_count": 33,
   "metadata": {},
   "outputs": [
    {
     "data": {
      "image/png": "[encoded data removed]",
      "text/plain": [
       "<Figure size 432x288 with 1 Axes>"
      ]
     },
     "metadata": {
      "needs_background": "light"
     },
     "output_type": "display_data"
    }
   ],
   "source": [
    "plt.plot(history_dict_1['loss'], 'bx', label='original model')\n",
    "plt.plot(history_dict_2['loss'], 'ro', label='smaller model')\n",
    "plt.plot(history_dict_3['loss'], 'gd', label='large model')\n",
    "plt.title('Train loss')\n",
    "plt.legend()\n",
    "plt.show()"
   ]
  },
  {
   "cell_type": "markdown",
   "metadata": {},
   "source": [
    "## Weight decay"
   ]
  },
  {
   "cell_type": "code",
   "execution_count": 36,
   "metadata": {
    "scrolled": true
   },
   "outputs": [
    {
     "name": "stdout",
     "output_type": "stream",
     "text": [
      "Train on 15000 samples, validate on 10000 samples\n",
      "Epoch 1/20\n",
      "15000/15000 [==============================] - 2s 104us/step - loss: 0.5630 - acc: 0.7931 - val_loss: 0.4393 - val_acc: 0.8707\n",
      "Epoch 2/20\n",
      "15000/15000 [==============================] - 1s 78us/step - loss: 0.3694 - acc: 0.8962 - val_loss: 0.3619 - val_acc: 0.8857\n",
      "Epoch 3/20\n",
      "15000/15000 [==============================] - 1s 79us/step - loss: 0.2963 - acc: 0.9205 - val_loss: 0.3374 - val_acc: 0.8882\n",
      "Epoch 4/20\n",
      "15000/15000 [==============================] - 1s 79us/step - loss: 0.2631 - acc: 0.9283 - val_loss: 0.3370 - val_acc: 0.8859\n",
      "Epoch 5/20\n",
      "15000/15000 [==============================] - 1s 79us/step - loss: 0.2407 - acc: 0.9392 - val_loss: 0.3412 - val_acc: 0.8849\n",
      "Epoch 6/20\n",
      "15000/15000 [==============================] - 1s 79us/step - loss: 0.2231 - acc: 0.9437 - val_loss: 0.3420 - val_acc: 0.8851\n",
      "Epoch 7/20\n",
      "15000/15000 [==============================] - 1s 79us/step - loss: 0.2140 - acc: 0.9481 - val_loss: 0.3486 - val_acc: 0.8839\n",
      "Epoch 8/20\n",
      "15000/15000 [==============================] - 1s 81us/step - loss: 0.2029 - acc: 0.9531 - val_loss: 0.3669 - val_acc: 0.8760\n",
      "Epoch 9/20\n",
      "15000/15000 [==============================] - 1s 81us/step - loss: 0.1956 - acc: 0.9563 - val_loss: 0.3562 - val_acc: 0.8816\n",
      "Epoch 10/20\n",
      "15000/15000 [==============================] - 1s 80us/step - loss: 0.1909 - acc: 0.9584 - val_loss: 0.3658 - val_acc: 0.8816\n",
      "Epoch 11/20\n",
      "15000/15000 [==============================] - 1s 79us/step - loss: 0.1842 - acc: 0.9605 - val_loss: 0.3891 - val_acc: 0.8731\n",
      "Epoch 12/20\n",
      "15000/15000 [==============================] - 1s 80us/step - loss: 0.1774 - acc: 0.9643 - val_loss: 0.3796 - val_acc: 0.8782\n",
      "Epoch 13/20\n",
      "15000/15000 [==============================] - 1s 80us/step - loss: 0.1756 - acc: 0.9626 - val_loss: 0.3868 - val_acc: 0.8768\n",
      "Epoch 14/20\n",
      "15000/15000 [==============================] - 1s 80us/step - loss: 0.1735 - acc: 0.9638 - val_loss: 0.3970 - val_acc: 0.8784\n",
      "Epoch 15/20\n",
      "15000/15000 [==============================] - 1s 82us/step - loss: 0.1654 - acc: 0.9680 - val_loss: 0.4221 - val_acc: 0.8671\n",
      "Epoch 16/20\n",
      "15000/15000 [==============================] - 1s 81us/step - loss: 0.1636 - acc: 0.9678 - val_loss: 0.4145 - val_acc: 0.8765\n",
      "Epoch 17/20\n",
      "15000/15000 [==============================] - 1s 83us/step - loss: 0.1591 - acc: 0.9690 - val_loss: 0.4141 - val_acc: 0.8759\n",
      "Epoch 18/20\n",
      "15000/15000 [==============================] - 1s 83us/step - loss: 0.1579 - acc: 0.9707 - val_loss: 0.4230 - val_acc: 0.8732\n",
      "Epoch 19/20\n",
      "15000/15000 [==============================] - 1s 83us/step - loss: 0.1566 - acc: 0.9705 - val_loss: 0.4377 - val_acc: 0.8729\n",
      "Epoch 20/20\n",
      "15000/15000 [==============================] - 1s 85us/step - loss: 0.1497 - acc: 0.9745 - val_loss: 0.5272 - val_acc: 0.8532\n"
     ]
    }
   ],
   "source": [
    "from keras import regularizers\n",
    "\n",
    "model = Sequential()\n",
    "model.add(Dense(16, kernel_regularizer=regularizers.l2(0.001), \n",
    "                activation='relu', input_shape = (10000,)))\n",
    "model.add(Dense(16, kernel_regularizer=regularizers.l2(0.001), \n",
    "                activation='relu'))\n",
    "model.add(Dense(1, activation='sigmoid'))\n",
    "\n",
    "model.compile(optimizer='rmsprop', loss='binary_crossentropy', metrics=['accuracy'])\n",
    "\n",
    "history = model.fit(x=partial_x_train, y=partial_y_train, batch_size=512, \n",
    "                    epochs=20, validation_data=(x_val, y_val))\n",
    "\n",
    "history_dict_1l2 = history.history"
   ]
  },
  {
   "cell_type": "code",
   "execution_count": 37,
   "metadata": {
    "scrolled": true
   },
   "outputs": [
    {
     "name": "stdout",
     "output_type": "stream",
     "text": [
      "Train on 15000 samples, validate on 10000 samples\n",
      "Epoch 1/20\n",
      "15000/15000 [==============================] - 2s 126us/step - loss: 1.0805 - acc: 0.7363 - val_loss: 0.7514 - val_acc: 0.7849\n",
      "Epoch 2/20\n",
      "15000/15000 [==============================] - 1s 88us/step - loss: 0.6922 - acc: 0.8315 - val_loss: 0.6644 - val_acc: 0.8458\n",
      "Epoch 3/20\n",
      "15000/15000 [==============================] - 1s 88us/step - loss: 0.6375 - acc: 0.8497 - val_loss: 0.6236 - val_acc: 0.8509\n",
      "Epoch 4/20\n",
      "15000/15000 [==============================] - 1s 88us/step - loss: 0.6027 - acc: 0.8549 - val_loss: 0.6383 - val_acc: 0.8247\n",
      "Epoch 5/20\n",
      "15000/15000 [==============================] - 1s 90us/step - loss: 0.5824 - acc: 0.8571 - val_loss: 0.5846 - val_acc: 0.8579\n",
      "Epoch 6/20\n",
      "15000/15000 [==============================] - 1s 89us/step - loss: 0.5692 - acc: 0.8577 - val_loss: 0.5892 - val_acc: 0.8471\n",
      "Epoch 7/20\n",
      "15000/15000 [==============================] - 1s 89us/step - loss: 0.5540 - acc: 0.8643 - val_loss: 0.5774 - val_acc: 0.8500\n",
      "Epoch 8/20\n",
      "15000/15000 [==============================] - 1s 90us/step - loss: 0.5439 - acc: 0.8665 - val_loss: 0.5591 - val_acc: 0.8584\n",
      "Epoch 9/20\n",
      "15000/15000 [==============================] - 1s 90us/step - loss: 0.5339 - acc: 0.8695 - val_loss: 0.5462 - val_acc: 0.8634\n",
      "Epoch 10/20\n",
      "15000/15000 [==============================] - 1s 92us/step - loss: 0.5283 - acc: 0.8694 - val_loss: 0.5423 - val_acc: 0.8639\n",
      "Epoch 11/20\n",
      "15000/15000 [==============================] - 1s 91us/step - loss: 0.5185 - acc: 0.8724 - val_loss: 0.5333 - val_acc: 0.8679\n",
      "Epoch 12/20\n",
      "15000/15000 [==============================] - 1s 87us/step - loss: 0.5131 - acc: 0.8737 - val_loss: 0.5663 - val_acc: 0.8463\n",
      "Epoch 13/20\n",
      "15000/15000 [==============================] - 1s 88us/step - loss: 0.5088 - acc: 0.8756 - val_loss: 0.5200 - val_acc: 0.8708\n",
      "Epoch 14/20\n",
      "15000/15000 [==============================] - 1s 87us/step - loss: 0.5030 - acc: 0.8773 - val_loss: 0.5399 - val_acc: 0.8607\n",
      "Epoch 15/20\n",
      "15000/15000 [==============================] - 1s 87us/step - loss: 0.4988 - acc: 0.8801 - val_loss: 0.5525 - val_acc: 0.8526\n",
      "Epoch 16/20\n",
      "15000/15000 [==============================] - 1s 92us/step - loss: 0.4942 - acc: 0.8803 - val_loss: 0.5261 - val_acc: 0.8668\n",
      "Epoch 17/20\n",
      "15000/15000 [==============================] - 1s 87us/step - loss: 0.4923 - acc: 0.8778 - val_loss: 0.5264 - val_acc: 0.8675\n",
      "Epoch 18/20\n",
      "15000/15000 [==============================] - 1s 89us/step - loss: 0.4873 - acc: 0.8850 - val_loss: 0.5203 - val_acc: 0.8695\n",
      "Epoch 19/20\n",
      "15000/15000 [==============================] - 1s 94us/step - loss: 0.4850 - acc: 0.8834 - val_loss: 0.5276 - val_acc: 0.8631\n",
      "Epoch 20/20\n",
      "15000/15000 [==============================] - 1s 90us/step - loss: 0.4846 - acc: 0.8859 - val_loss: 0.5177 - val_acc: 0.8716\n"
     ]
    }
   ],
   "source": [
    "model = Sequential()\n",
    "model.add(Dense(16, kernel_regularizer=regularizers.l1(0.001), \n",
    "                activation='relu', input_shape = (10000,)))\n",
    "model.add(Dense(16, kernel_regularizer=regularizers.l1(0.001), \n",
    "                activation='relu'))\n",
    "model.add(Dense(1, activation='sigmoid'))\n",
    "\n",
    "model.compile(optimizer='rmsprop', loss='binary_crossentropy', metrics=['accuracy'])\n",
    "\n",
    "history = model.fit(x=partial_x_train, y=partial_y_train, batch_size=512, \n",
    "                    epochs=20, validation_data=(x_val, y_val))\n",
    "\n",
    "history_dict_1l1 = history.history"
   ]
  },
  {
   "cell_type": "code",
   "execution_count": 38,
   "metadata": {},
   "outputs": [
    {
     "data": {
      "image/png": "[encoded data removed]",
      "text/plain": [
       "<Figure size 432x288 with 1 Axes>"
      ]
     },
     "metadata": {
      "needs_background": "light"
     },
     "output_type": "display_data"
    }
   ],
   "source": [
    "plt.plot(history_dict_1['val_loss'], 'bx', label='original model')\n",
    "plt.plot(history_dict_1l2['val_loss'], 'ro', label='l2 regularized model')\n",
    "plt.plot(history_dict_1l1['val_loss'], 'gd', label='l1 regularized model')\n",
    "plt.title('Validation loss')\n",
    "plt.legend()\n",
    "plt.show()"
   ]
  },
  {
   "cell_type": "code",
   "execution_count": 39,
   "metadata": {
    "collapsed": true
   },
   "outputs": [],
   "source": [
    "from keras.layers import Dropout"
   ]
  },
  {
   "cell_type": "code",
   "execution_count": 40,
   "metadata": {},
   "outputs": [
    {
     "name": "stdout",
     "output_type": "stream",
     "text": [
      "Train on 15000 samples, validate on 10000 samples\n",
      "Epoch 1/20\n",
      "15000/15000 [==============================] - 2s 118us/step - loss: 0.6567 - acc: 0.6073 - val_loss: 0.5664 - val_acc: 0.7940\n",
      "Epoch 2/20\n",
      "15000/15000 [==============================] - 1s 88us/step - loss: 0.5559 - acc: 0.7364 - val_loss: 0.4639 - val_acc: 0.8519\n",
      "Epoch 3/20\n",
      "15000/15000 [==============================] - 1s 87us/step - loss: 0.4707 - acc: 0.8082 - val_loss: 0.3878 - val_acc: 0.8734\n",
      "Epoch 4/20\n",
      "15000/15000 [==============================] - 1s 88us/step - loss: 0.4078 - acc: 0.8498 - val_loss: 0.3467 - val_acc: 0.8744\n",
      "Epoch 5/20\n",
      "15000/15000 [==============================] - 1s 89us/step - loss: 0.3520 - acc: 0.8792 - val_loss: 0.3293 - val_acc: 0.8752\n",
      "Epoch 6/20\n",
      "15000/15000 [==============================] - 1s 89us/step - loss: 0.3119 - acc: 0.9010 - val_loss: 0.2962 - val_acc: 0.8830\n",
      "Epoch 7/20\n",
      "15000/15000 [==============================] - 1s 89us/step - loss: 0.2758 - acc: 0.9168 - val_loss: 0.2862 - val_acc: 0.8853\n",
      "Epoch 8/20\n",
      "15000/15000 [==============================] - 1s 89us/step - loss: 0.2463 - acc: 0.9268 - val_loss: 0.2958 - val_acc: 0.8870\n",
      "Epoch 9/20\n",
      "15000/15000 [==============================] - 1s 89us/step - loss: 0.2171 - acc: 0.9360 - val_loss: 0.2877 - val_acc: 0.8861\n",
      "Epoch 10/20\n",
      "15000/15000 [==============================] - 1s 89us/step - loss: 0.1946 - acc: 0.9435 - val_loss: 0.3213 - val_acc: 0.8864\n",
      "Epoch 11/20\n",
      "15000/15000 [==============================] - 1s 88us/step - loss: 0.1751 - acc: 0.9483 - val_loss: 0.3491 - val_acc: 0.8837\n",
      "Epoch 12/20\n",
      "15000/15000 [==============================] - 1s 89us/step - loss: 0.1571 - acc: 0.9534 - val_loss: 0.3616 - val_acc: 0.8817\n",
      "Epoch 13/20\n",
      "15000/15000 [==============================] - 1s 90us/step - loss: 0.1425 - acc: 0.9564 - val_loss: 0.3639 - val_acc: 0.8827\n",
      "Epoch 14/20\n",
      "15000/15000 [==============================] - 1s 90us/step - loss: 0.1309 - acc: 0.9615 - val_loss: 0.3860 - val_acc: 0.8798\n",
      "Epoch 15/20\n",
      "15000/15000 [==============================] - 1s 89us/step - loss: 0.1185 - acc: 0.9653 - val_loss: 0.4225 - val_acc: 0.8803\n",
      "Epoch 16/20\n",
      "15000/15000 [==============================] - 1s 90us/step - loss: 0.1078 - acc: 0.9689 - val_loss: 0.4478 - val_acc: 0.8795\n",
      "Epoch 17/20\n",
      "15000/15000 [==============================] - 1s 90us/step - loss: 0.1025 - acc: 0.9687 - val_loss: 0.4548 - val_acc: 0.8803\n",
      "Epoch 18/20\n",
      "15000/15000 [==============================] - 1s 90us/step - loss: 0.0928 - acc: 0.9720 - val_loss: 0.5684 - val_acc: 0.8752\n",
      "Epoch 19/20\n",
      "15000/15000 [==============================] - 1s 91us/step - loss: 0.0874 - acc: 0.9743 - val_loss: 0.5075 - val_acc: 0.8785\n",
      "Epoch 20/20\n",
      "15000/15000 [==============================] - 1s 90us/step - loss: 0.0824 - acc: 0.9741 - val_loss: 0.5130 - val_acc: 0.8779\n"
     ]
    }
   ],
   "source": [
    "model = Sequential()\n",
    "model.add(Dense(16, activation='relu', input_shape = (10000,)))\n",
    "model.add(Dropout(0.5))\n",
    "model.add(Dense(16, activation='relu'))\n",
    "model.add(Dropout(0.5))\n",
    "model.add(Dense(1, activation='sigmoid'))\n",
    "\n",
    "model.compile(optimizer='rmsprop', loss='binary_crossentropy', metrics=['accuracy'])\n",
    "\n",
    "history = model.fit(x=partial_x_train, y=partial_y_train, batch_size=512, \n",
    "                    epochs=20, validation_data=(x_val, y_val))\n",
    "\n",
    "history_dict_dropout = history.history"
   ]
  },
  {
   "cell_type": "code",
   "execution_count": 41,
   "metadata": {},
   "outputs": [
    {
     "data": {
      "image/png": "[encoded data removed]",
      "text/plain": [
       "<Figure size 432x288 with 1 Axes>"
      ]
     },
     "metadata": {
      "needs_background": "light"
     },
     "output_type": "display_data"
    }
   ],
   "source": [
    "plt.plot(history_dict_1['val_loss'], 'bx', label='original model')\n",
    "plt.plot(history_dict_1l2['val_loss'], 'ro', label='l2 regularized model')\n",
    "plt.plot(history_dict_dropout['val_loss'], 'gd', label=' dropout model')\n",
    "plt.title('Validation loss')\n",
    "plt.legend()\n",
    "plt.show()"
   ]
  },
  {
   "cell_type": "code",
   "execution_count": 21,
   "metadata": {},
   "outputs": [
    {
     "name": "stdout",
     "output_type": "stream",
     "text": [
      "Epoch 1/4\n",
      "25000/25000 [==============================] - 2s 64us/step - loss: 0.4741 - acc: 0.8217\n",
      "Epoch 2/4\n",
      "25000/25000 [==============================] - 1s 56us/step - loss: 0.2675 - acc: 0.9092\n",
      "Epoch 3/4\n",
      "25000/25000 [==============================] - 1s 56us/step - loss: 0.2034 - acc: 0.9284\n",
      "Epoch 4/4\n",
      "25000/25000 [==============================] - 1s 55us/step - loss: 0.1718 - acc: 0.9384\n",
      "25000/25000 [==============================] - 1s 51us/step\n"
     ]
    }
   ],
   "source": [
    "model = Sequential()\n",
    "model.add(Dense(16, activation='relu', input_shape = (10000,)))\n",
    "model.add(Dense(16, activation='relu'))\n",
    "model.add(Dense(1, activation='sigmoid'))\n",
    "\n",
    "model.compile(optimizer='rmsprop', loss='binary_crossentropy', metrics=['accuracy'])\n",
    "\n",
    "history = model.fit(x=x_train, y=y_train, batch_size=512, \n",
    "                    epochs=4)\n",
    "results = model.evaluate(x_test, y_test)"
   ]
  },
  {
   "cell_type": "code",
   "execution_count": 22,
   "metadata": {},
   "outputs": [
    {
     "data": {
      "text/plain": [
       "[0.3111158518409729, 0.87612]"
      ]
     },
     "execution_count": 22,
     "metadata": {},
     "output_type": "execute_result"
    }
   ],
   "source": [
    "results"
   ]
  },
  {
   "cell_type": "code",
   "execution_count": 23,
   "metadata": {},
   "outputs": [
    {
     "data": {
      "text/plain": [
       "array([[0.16000584],\n",
       "       [0.9998431 ],\n",
       "       [0.39259014],\n",
       "       ...,\n",
       "       [0.08191341],\n",
       "       [0.04899251],\n",
       "       [0.46214366]], dtype=float32)"
      ]
     },
     "execution_count": 23,
     "metadata": {},
     "output_type": "execute_result"
    }
   ],
   "source": [
    "model.predict(x_test)"
   ]
  }
 ],
 "metadata": {
  "kernelspec": {
   "display_name": "Python [conda env:keras]",
   "language": "python",
   "name": "conda-env-keras-py"
  },
  "language_info": {
   "codemirror_mode": {
    "name": "ipython",
    "version": 3
   },
   "file_extension": ".py",
   "mimetype": "text/x-python",
   "name": "python",
   "nbconvert_exporter": "python",
   "pygments_lexer": "ipython3",
   "version": "3.5.5"
  }
 },
 "nbformat": 4,
 "nbformat_minor": 2
}
